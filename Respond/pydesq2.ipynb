{
 "cells": [
  {
   "cell_type": "code",
   "execution_count": 3,
   "id": "eaf2c46d",
   "metadata": {},
   "outputs": [],
   "source": [
    "from pydeseq2.dds import DeseqDataSet\n",
    "from pydeseq2.ds import DeseqStats\n",
    "\n",
    "import pandas as pd\n",
    "import data_load, constants "
   ]
  },
  {
   "cell_type": "code",
   "execution_count": 13,
   "id": "7390539b",
   "metadata": {},
   "outputs": [],
   "source": [
    "counts = data_load.load_txt_file_into_dataframe(file_path=constants.expression_file_path)\n",
    "mutation = data_load.load_maf_data(file_path=constants.maf_file_path)"
   ]
  },
  {
   "cell_type": "code",
   "execution_count": 11,
   "id": "0a981db7",
   "metadata": {},
   "outputs": [],
   "source": [
    "counts = counts[counts.sum(axis = 1) > 0]\n"
   ]
  },
  {
   "cell_type": "code",
   "execution_count": 31,
   "id": "7db0ea12",
   "metadata": {},
   "outputs": [],
   "source": [
    "normalized_counts = deseq2_norm(counts)[0]"
   ]
  },
  {
   "cell_type": "code",
   "execution_count": null,
   "id": "c0cc24c9",
   "metadata": {},
   "outputs": [],
   "source": []
  }
 ],
 "metadata": {
  "kernelspec": {
   "display_name": "Python 3",
   "language": "python",
   "name": "python3"
  },
  "language_info": {
   "codemirror_mode": {
    "name": "ipython",
    "version": 3
   },
   "file_extension": ".py",
   "mimetype": "text/x-python",
   "name": "python",
   "nbconvert_exporter": "python",
   "pygments_lexer": "ipython3",
   "version": "3.9.18"
  }
 },
 "nbformat": 4,
 "nbformat_minor": 5
}
