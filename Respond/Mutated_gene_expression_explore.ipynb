{
 "cells": [
  {
   "cell_type": "code",
   "execution_count": 1,
   "id": "a68179f1-6218-4af0-b352-79dccdb72e82",
   "metadata": {},
   "outputs": [],
   "source": [
    "maf_file_path = 'data/RESPOND_247_coding_final.maf'\n",
    "expression_file_path = 'data/Expression_remove_BE.txt'\n",
    "target_gene='RPL10'\n",
    "\n",
    "import pandas as pd\n",
    "import numpy as np\n",
    "from statistics import mean \n",
    "from scipy.stats import ranksums\n",
    "import matplotlib.pylab as plt\n",
    "from statsmodels.stats import multitest\n"
   ]
  },
  {
   "cell_type": "code",
   "execution_count": 2,
   "id": "12bdca97-76e8-4627-8c49-51098cc5fd8f",
   "metadata": {},
   "outputs": [],
   "source": [
    "def load_maf_data(file_path):\n",
    "    # Define columns of interest\n",
    "    columns = [\"Hugo_Symbol\", \"Tumor_Sample_Barcode\"]\n",
    "    df = pd.read_csv(file_path, sep='\\t', comment=\"#\", usecols=columns)\n",
    "    df.rename(columns={'Hugo_Symbol': 'gene', 'Tumor_Sample_Barcode': 'sample'}, inplace=True)\n",
    "    df['mutation'] = 1\n",
    "    return df\n",
    "    \n",
    "maf_df = load_maf_data(maf_file_path)\n",
    "\n"
   ]
  },
  {
   "cell_type": "code",
   "execution_count": 3,
   "id": "3561f69f-7e5d-4c57-b6a8-befedcba5104",
   "metadata": {},
   "outputs": [],
   "source": [
    "def log2(value):\n",
    "    return np.log2(value + 1)\n",
    "\n",
    "def load_txt_file_into_dataframe(file_path):\n",
    "    # Read the .txt file into a pandas DataFrame\n",
    "    df = pd.read_csv(file_path, sep='\\t')  # Adjust the separator if needed\n",
    "\n",
    "    # take log2 of expression data to scale expression data\n",
    "    df = df.map(log2)\n",
    "\n",
    "    return df\n",
    "\n",
    "\n",
    "# Call the load_txt_file_into_dataframe function\n",
    "expression_df = load_txt_file_into_dataframe(expression_file_path)"
   ]
  },
  {
   "cell_type": "code",
   "execution_count": 4,
   "id": "c957ea88-e994-4193-9e16-35cb3c73ba59",
   "metadata": {},
   "outputs": [],
   "source": [
    "def reformat_expression_data(df):\n",
    "    # Combine column names and index names into rows for every element\n",
    "    melted_df = pd.melt(df.reset_index(), id_vars=['index'], var_name='column', col_level=0)\n",
    "\n",
    "    # Rename columns\n",
    "    melted_df.rename(columns={'index': 'gene', 'column': 'sample', 'value': 'gene_expression'}, inplace=True)\n",
    "\n",
    "    return melted_df\n",
    "\n",
    "\n",
    "expression_df_melted = reformat_expression_data(expression_df)"
   ]
  },
  {
   "cell_type": "code",
   "execution_count": 5,
   "id": "6d348536-277e-465d-b461-25a9035ff9ee",
   "metadata": {},
   "outputs": [],
   "source": [
    "# note individuals with muttated data mmay be missing in the expression data and vice versa. \n",
    "# every sample should have at least one mutation "
   ]
  },
  {
   "cell_type": "code",
   "execution_count": 6,
   "id": "3372f141-9ba1-4e9f-9aaf-adcf16eb43c6",
   "metadata": {},
   "outputs": [
    {
     "name": "stdout",
     "output_type": "stream",
     "text": [
      "fraction of rows filtered is 0.2865853658536585\n"
     ]
    }
   ],
   "source": [
    "def preprocess_and_combine_mutation_expression(maf_df, expression_df):\n",
    "    ''' filter the expression data to those that have whole genome sequencing \n",
    "     i.e. appear in the mutation data frame (maf)\n",
    "     join mutation and expression data\n",
    "     '''\n",
    "    \n",
    "    exon_seq_samples = maf_df['sample'].unique()\n",
    "    filtered_expression_df = expression_df[expression_df['sample'].isin(exon_seq_samples)]\n",
    "    \n",
    "    all_rows = expression_df.shape[0]\n",
    "    filt_rows = filtered_expression_df.shape[0]\n",
    "    \n",
    "    percentage_filtered = (all_rows - filt_rows) / all_rows\n",
    "    \n",
    "    print('fraction of rows filtered is', percentage_filtered)\n",
    "\n",
    "    express_mut_genes_df = pd.merge(maf_df, filtered_expression_df, on=['gene', 'sample'], how='right')\n",
    "\n",
    "    express_mut_genes_df['mutation'].fillna(0, inplace=True)\n",
    "\n",
    "    return express_mut_genes_df\n",
    "\n",
    "\n",
    "mutation_expression_df_melted =  preprocess_and_combine_mutation_expression(maf_df, expression_df_melted)\n",
    "    "
   ]
  },
  {
   "cell_type": "code",
   "execution_count": 7,
   "id": "3a6df317-d9bc-492d-8c4f-03186375ada3",
   "metadata": {},
   "outputs": [],
   "source": [
    "def calculate_log_fold(list_mutated, list_non_mutated): \n",
    "    mean_mutated = mean(list_mutated)\n",
    "    mean_non_mutated = mean(list_non_mutated) + 0.000001\n",
    "    return np.log2(mean_mutated/mean_non_mutated)"
   ]
  },
  {
   "cell_type": "code",
   "execution_count": 8,
   "id": "7aa8e148-4bb5-4bff-9cb3-7ae71e4bb2ae",
   "metadata": {},
   "outputs": [],
   "source": [
    "def calculate_pvalue_wilcox_ranksum(list_mutated, list_non_mutated):\n",
    "     return ranksums(list_mutated, list_non_mutated).pvalue"
   ]
  },
  {
   "cell_type": "code",
   "execution_count": 9,
   "id": "0851fd78-7875-49c2-ace0-98a8be179d0a",
   "metadata": {},
   "outputs": [],
   "source": [
    "def calculate_adjusted_pvalue(pvalues, method='fdr_bh'):\n",
    "    _, corrected_pvalues, _, _ = multitest.multipletests(pvalues, method=method)\n",
    "    return corrected_pvalues\n"
   ]
  },
  {
   "cell_type": "code",
   "execution_count": 10,
   "id": "231c6d1e-4a02-45bf-943c-b8ddb9c76757",
   "metadata": {},
   "outputs": [],
   "source": [
    "def generate_stats_per_gene(express_mut_genes_df, target_gene):\n",
    "    \"\"\"\n",
    "    Given expression and mutation data calculates LogFC, pvalue, mean of expression per gene \n",
    "    for a given target_gene \n",
    "    \n",
    "    \"\"\"\n",
    "    gene_df = express_mut_genes_df[express_mut_genes_df['gene']==target_gene]\n",
    "\n",
    "    mutated_samples = gene_df[gene_df['mutation'] == 1]['sample']\n",
    "    non_mutated_samples = gene_df[gene_df['mutation'] == 0]['sample']\n",
    "    \n",
    "    mutated_individuals_expression = express_mut_genes_df[express_mut_genes_df['sample'].isin(mutated_samples)]\n",
    "    \n",
    "    non_mutated_individuals_expression = express_mut_genes_df[express_mut_genes_df['sample'].isin(non_mutated_samples)]\n",
    "\n",
    "    # gather data of mutated and non-mutated genes into lists\n",
    "    mutated_individuals_data = mutated_individuals_expression.groupby(['gene'])['gene_expression'].apply(\n",
    "    lambda x: list(x)).to_frame().reset_index().rename(columns={'gene_expression': 'gene_expression_mutated'})\n",
    "    non_mutated_individuals_data = non_mutated_individuals_expression.groupby(['gene'])['gene_expression'].apply(\n",
    "    lambda x: list(x)).to_frame().reset_index().rename(columns={'gene_expression': 'gene_expression_non_mutated'})\n",
    "\n",
    "    # combine mutated and unmutated data into one df\n",
    "    combined_data= pd.merge(mutated_individuals_data, non_mutated_individuals_data, on='gene', how='inner')\n",
    "\n",
    "    # calculate fold change and p-value\n",
    "    combined_data['logFC']= combined_data.apply(\n",
    "        lambda x: calculate_log_fold(x.gene_expression_mutated, x.gene_expression_non_mutated), axis=1)\n",
    "    combined_data['pvalue'] = combined_data.apply(\n",
    "        lambda x: calculate_pvalue_wilcox_ranksum(x.gene_expression_mutated, x.gene_expression_non_mutated), axis=1)\n",
    "    combined_data['expression_mutated_mean'] = combined_data['gene_expression_mutated'].apply(mean)\n",
    "    combined_data['expression_nonmutated_mean'] = combined_data['gene_expression_non_mutated'].apply(mean)\n",
    " \n",
    "    # Clip outliers in 'logFC' column\n",
    "    combined_data['logFC'] = combined_data['logFC'].clip(lower=-10, upper=10)\n",
    "\n",
    "    # calculate adjusted p-value\n",
    "    combined_data['adjusted_pvalue'] = calculate_adjusted_pvalue(combined_data['pvalue'].values)\n",
    "\n",
    "    # Output data to csv \n",
    "    combined_data.drop(columns=['gene_expression_mutated', 'gene_expression_non_mutated'], inplace=True)\n",
    "    \n",
    "    output_file_path_name = f'{mutated_samples.count()}_{non_mutated_samples.count()}_{target_gene}'\n",
    "    print(f\"outputting data to {output_file_path_name}\")\n",
    "    combined_data.to_csv(output_file_path_name, index=False)\n",
    "\n",
    "    return combined_data, output_file_path_name, mutated_samples\n"
   ]
  },
  {
   "cell_type": "code",
   "execution_count": 11,
   "id": "ab65d785-dbfe-4336-a4d0-68024188234c",
   "metadata": {},
   "outputs": [
    {
     "name": "stderr",
     "output_type": "stream",
     "text": [
      "/var/folders/87/3s003r291fv10lqn34cwt0c80000gn/T/ipykernel_7833/2450995287.py:4: RuntimeWarning: divide by zero encountered in log2\n",
      "  return np.log2(mean_mutated/mean_non_mutated)\n"
     ]
    },
    {
     "name": "stdout",
     "output_type": "stream",
     "text": [
      "outputting data to 5_112_RPL10\n"
     ]
    }
   ],
   "source": [
    "volcano_plot_df, gene_file_path, individuals_mutated_target_gene = generate_stats_per_gene(mutation_expression_df_melted, target_gene)"
   ]
  },
  {
   "cell_type": "code",
   "execution_count": 12,
   "id": "72c7bdd0-244a-4080-8175-3bfe47c6f1bb",
   "metadata": {},
   "outputs": [
    {
     "data": {
      "text/html": [
       "<div>\n",
       "<style scoped>\n",
       "    .dataframe tbody tr th:only-of-type {\n",
       "        vertical-align: middle;\n",
       "    }\n",
       "\n",
       "    .dataframe tbody tr th {\n",
       "        vertical-align: top;\n",
       "    }\n",
       "\n",
       "    .dataframe thead th {\n",
       "        text-align: right;\n",
       "    }\n",
       "</style>\n",
       "<table border=\"1\" class=\"dataframe\">\n",
       "  <thead>\n",
       "    <tr style=\"text-align: right;\">\n",
       "      <th></th>\n",
       "      <th>gene</th>\n",
       "      <th>logFC</th>\n",
       "      <th>pvalue</th>\n",
       "      <th>expression_mutated_mean</th>\n",
       "      <th>expression_nonmutated_mean</th>\n",
       "      <th>adjusted_pvalue</th>\n",
       "    </tr>\n",
       "  </thead>\n",
       "  <tbody>\n",
       "    <tr>\n",
       "      <th>0</th>\n",
       "      <td>A1BG</td>\n",
       "      <td>-0.357607</td>\n",
       "      <td>0.526496</td>\n",
       "      <td>1.796602</td>\n",
       "      <td>2.301983</td>\n",
       "      <td>0.996941</td>\n",
       "    </tr>\n",
       "    <tr>\n",
       "      <th>1</th>\n",
       "      <td>A1CF</td>\n",
       "      <td>0.419185</td>\n",
       "      <td>0.589864</td>\n",
       "      <td>0.770841</td>\n",
       "      <td>0.576470</td>\n",
       "      <td>0.996941</td>\n",
       "    </tr>\n",
       "    <tr>\n",
       "      <th>2</th>\n",
       "      <td>A2M</td>\n",
       "      <td>-0.058985</td>\n",
       "      <td>0.496169</td>\n",
       "      <td>7.180720</td>\n",
       "      <td>7.480391</td>\n",
       "      <td>0.996941</td>\n",
       "    </tr>\n",
       "    <tr>\n",
       "      <th>3</th>\n",
       "      <td>A2ML1</td>\n",
       "      <td>0.544968</td>\n",
       "      <td>0.140050</td>\n",
       "      <td>1.805403</td>\n",
       "      <td>1.237434</td>\n",
       "      <td>0.996941</td>\n",
       "    </tr>\n",
       "  </tbody>\n",
       "</table>\n",
       "</div>"
      ],
      "text/plain": [
       "    gene     logFC    pvalue  expression_mutated_mean  \\\n",
       "0   A1BG -0.357607  0.526496                 1.796602   \n",
       "1   A1CF  0.419185  0.589864                 0.770841   \n",
       "2    A2M -0.058985  0.496169                 7.180720   \n",
       "3  A2ML1  0.544968  0.140050                 1.805403   \n",
       "\n",
       "   expression_nonmutated_mean  adjusted_pvalue  \n",
       "0                    2.301983         0.996941  \n",
       "1                    0.576470         0.996941  \n",
       "2                    7.480391         0.996941  \n",
       "3                    1.237434         0.996941  "
      ]
     },
     "execution_count": 12,
     "metadata": {},
     "output_type": "execute_result"
    }
   ],
   "source": [
    "volcano_plot_df.head(4)"
   ]
  },
  {
   "cell_type": "markdown",
   "id": "e484ffc8-6249-448f-b354-01574bb19717",
   "metadata": {},
   "source": [
    "## generate heatmap of top 100 differentially expressed genes"
   ]
  },
  {
   "cell_type": "code",
   "execution_count": 13,
   "id": "fe591289-eba9-427a-8563-ada51b200b91",
   "metadata": {},
   "outputs": [],
   "source": [
    "def generate_expression_heatmap(expression_df, volcano_plot_df, n=100, exclude_value=10):\n",
    "    # Get the indices of the top n rows based on absolute values of 'logFC'\n",
    "    # get the genes most differentially expressed (high log FC values)\n",
    "    # if we exclude -exclude_value, exclude_value values\n",
    "    top_n_indices = volcano_plot_df[\n",
    "        (volcano_plot_df['logFC'].abs() != exclude_value)\n",
    "    ]['logFC'].abs().nlargest(n).index\n",
    "    \n",
    "    top_n_rows = volcano_plot_df.loc[top_n_indices].set_index('gene')\n",
    "\n",
    "    # go back to the expression df and make a heatmap of the top n genes\n",
    "    expression_df_heatmap = expression_df.loc[top_n_rows.index]\n",
    "    \n",
    "    return expression_df_heatmap\n",
    "\n",
    "heatmap_data = generate_expression_heatmap(expression_df, volcano_plot_df)\n"
   ]
  },
  {
   "cell_type": "code",
   "execution_count": 14,
   "id": "1bdc8bc0-fb04-4196-b9e5-45c46f3fb94b",
   "metadata": {},
   "outputs": [
    {
     "data": {
      "text/html": [
       "<div>\n",
       "<style scoped>\n",
       "    .dataframe tbody tr th:only-of-type {\n",
       "        vertical-align: middle;\n",
       "    }\n",
       "\n",
       "    .dataframe tbody tr th {\n",
       "        vertical-align: top;\n",
       "    }\n",
       "\n",
       "    .dataframe thead th {\n",
       "        text-align: right;\n",
       "    }\n",
       "</style>\n",
       "<table border=\"1\" class=\"dataframe\">\n",
       "  <thead>\n",
       "    <tr style=\"text-align: right;\">\n",
       "      <th></th>\n",
       "      <th>RESPOND_10100218</th>\n",
       "      <th>RESPOND_10100291</th>\n",
       "      <th>RESPOND_10100412</th>\n",
       "      <th>RESPOND_10100478</th>\n",
       "      <th>RESPOND_10100596</th>\n",
       "      <th>RESPOND_10100615</th>\n",
       "      <th>RESPOND_10100801</th>\n",
       "      <th>RESPOND_10100884</th>\n",
       "      <th>RESPOND_10100899</th>\n",
       "      <th>RESPOND_10100952</th>\n",
       "      <th>...</th>\n",
       "      <th>RESPOND_80100242</th>\n",
       "      <th>RESPOND_80100313</th>\n",
       "      <th>RESPOND_80100345</th>\n",
       "      <th>RESPOND_80100411</th>\n",
       "      <th>RESPOND_80100526</th>\n",
       "      <th>RESPOND_80100556</th>\n",
       "      <th>RESPOND_80100590</th>\n",
       "      <th>RESPOND_81100031</th>\n",
       "      <th>RESPOND_40100842</th>\n",
       "      <th>RESPOND_80100259</th>\n",
       "    </tr>\n",
       "    <tr>\n",
       "      <th>gene</th>\n",
       "      <th></th>\n",
       "      <th></th>\n",
       "      <th></th>\n",
       "      <th></th>\n",
       "      <th></th>\n",
       "      <th></th>\n",
       "      <th></th>\n",
       "      <th></th>\n",
       "      <th></th>\n",
       "      <th></th>\n",
       "      <th></th>\n",
       "      <th></th>\n",
       "      <th></th>\n",
       "      <th></th>\n",
       "      <th></th>\n",
       "      <th></th>\n",
       "      <th></th>\n",
       "      <th></th>\n",
       "      <th></th>\n",
       "      <th></th>\n",
       "      <th></th>\n",
       "    </tr>\n",
       "  </thead>\n",
       "  <tbody>\n",
       "    <tr>\n",
       "      <th>TMEM238L</th>\n",
       "      <td>0.0</td>\n",
       "      <td>0.0</td>\n",
       "      <td>0.0</td>\n",
       "      <td>0.0</td>\n",
       "      <td>0.000012</td>\n",
       "      <td>0.0</td>\n",
       "      <td>0.000003</td>\n",
       "      <td>0.0</td>\n",
       "      <td>0.0</td>\n",
       "      <td>0.0</td>\n",
       "      <td>...</td>\n",
       "      <td>0.000000</td>\n",
       "      <td>0.0</td>\n",
       "      <td>0.0</td>\n",
       "      <td>0.0</td>\n",
       "      <td>0.0</td>\n",
       "      <td>0.0</td>\n",
       "      <td>0.0</td>\n",
       "      <td>0.0</td>\n",
       "      <td>0.000025</td>\n",
       "      <td>0.0</td>\n",
       "    </tr>\n",
       "    <tr>\n",
       "      <th>RN7SL321P</th>\n",
       "      <td>0.0</td>\n",
       "      <td>0.0</td>\n",
       "      <td>0.0</td>\n",
       "      <td>0.0</td>\n",
       "      <td>0.000000</td>\n",
       "      <td>0.0</td>\n",
       "      <td>0.000000</td>\n",
       "      <td>0.0</td>\n",
       "      <td>0.0</td>\n",
       "      <td>0.0</td>\n",
       "      <td>...</td>\n",
       "      <td>0.000000</td>\n",
       "      <td>0.0</td>\n",
       "      <td>0.0</td>\n",
       "      <td>0.0</td>\n",
       "      <td>0.0</td>\n",
       "      <td>0.0</td>\n",
       "      <td>0.0</td>\n",
       "      <td>0.0</td>\n",
       "      <td>0.000000</td>\n",
       "      <td>0.0</td>\n",
       "    </tr>\n",
       "    <tr>\n",
       "      <th>RNVU1-19</th>\n",
       "      <td>0.0</td>\n",
       "      <td>0.0</td>\n",
       "      <td>0.0</td>\n",
       "      <td>0.0</td>\n",
       "      <td>0.000000</td>\n",
       "      <td>0.0</td>\n",
       "      <td>0.000000</td>\n",
       "      <td>0.0</td>\n",
       "      <td>0.0</td>\n",
       "      <td>0.0</td>\n",
       "      <td>...</td>\n",
       "      <td>0.915644</td>\n",
       "      <td>0.0</td>\n",
       "      <td>0.0</td>\n",
       "      <td>0.0</td>\n",
       "      <td>0.0</td>\n",
       "      <td>0.0</td>\n",
       "      <td>0.0</td>\n",
       "      <td>0.0</td>\n",
       "      <td>0.471448</td>\n",
       "      <td>0.0</td>\n",
       "    </tr>\n",
       "  </tbody>\n",
       "</table>\n",
       "<p>3 rows × 164 columns</p>\n",
       "</div>"
      ],
      "text/plain": [
       "           RESPOND_10100218  RESPOND_10100291  RESPOND_10100412  \\\n",
       "gene                                                              \n",
       "TMEM238L                0.0               0.0               0.0   \n",
       "RN7SL321P               0.0               0.0               0.0   \n",
       "RNVU1-19                0.0               0.0               0.0   \n",
       "\n",
       "           RESPOND_10100478  RESPOND_10100596  RESPOND_10100615  \\\n",
       "gene                                                              \n",
       "TMEM238L                0.0          0.000012               0.0   \n",
       "RN7SL321P               0.0          0.000000               0.0   \n",
       "RNVU1-19                0.0          0.000000               0.0   \n",
       "\n",
       "           RESPOND_10100801  RESPOND_10100884  RESPOND_10100899  \\\n",
       "gene                                                              \n",
       "TMEM238L           0.000003               0.0               0.0   \n",
       "RN7SL321P          0.000000               0.0               0.0   \n",
       "RNVU1-19           0.000000               0.0               0.0   \n",
       "\n",
       "           RESPOND_10100952  ...  RESPOND_80100242  RESPOND_80100313  \\\n",
       "gene                         ...                                       \n",
       "TMEM238L                0.0  ...          0.000000               0.0   \n",
       "RN7SL321P               0.0  ...          0.000000               0.0   \n",
       "RNVU1-19                0.0  ...          0.915644               0.0   \n",
       "\n",
       "           RESPOND_80100345  RESPOND_80100411  RESPOND_80100526  \\\n",
       "gene                                                              \n",
       "TMEM238L                0.0               0.0               0.0   \n",
       "RN7SL321P               0.0               0.0               0.0   \n",
       "RNVU1-19                0.0               0.0               0.0   \n",
       "\n",
       "           RESPOND_80100556  RESPOND_80100590  RESPOND_81100031  \\\n",
       "gene                                                              \n",
       "TMEM238L                0.0               0.0               0.0   \n",
       "RN7SL321P               0.0               0.0               0.0   \n",
       "RNVU1-19                0.0               0.0               0.0   \n",
       "\n",
       "           RESPOND_40100842  RESPOND_80100259  \n",
       "gene                                           \n",
       "TMEM238L           0.000025               0.0  \n",
       "RN7SL321P          0.000000               0.0  \n",
       "RNVU1-19           0.471448               0.0  \n",
       "\n",
       "[3 rows x 164 columns]"
      ]
     },
     "execution_count": 14,
     "metadata": {},
     "output_type": "execute_result"
    }
   ],
   "source": [
    "heatmap_data.head(3)"
   ]
  },
  {
   "cell_type": "code",
   "execution_count": 100,
   "id": "a25a4468-1792-447c-94e8-1c384c96c505",
   "metadata": {},
   "outputs": [],
   "source": [
    "# can check mutation status of genes by checking individuals_mutated_target_gene"
   ]
  },
  {
   "cell_type": "code",
   "execution_count": 88,
   "id": "5448fd2b-206e-4195-aa36-6aa4d00900c5",
   "metadata": {},
   "outputs": [],
   "source": []
  },
  {
   "cell_type": "code",
   "execution_count": 18,
   "id": "e51e4364-9eec-4ef8-ba66-16410c606ac4",
   "metadata": {},
   "outputs": [],
   "source": [
    "import pandas as pd\n",
    "\n",
    "def get_mutated_status(expression_df_heatmap, individuals_mutated_target_gene):\n",
    "    individuals_mutated_target_gene = list(individuals_mutated_target_gene)\n",
    "    \n",
    "    mutated_status = [1 if item in individuals_mutated_target_gene else 0 for item in expression_df_heatmap.columns]\n",
    "\n",
    "    sample_categories_df = pd.DataFrame({\n",
    "        'Sample': expression_df_heatmap.columns,\n",
    "        'Mutation Status': mutated_status\n",
    "    })\n",
    "\n",
    "    return sample_categories_df\n",
    "\n",
    "mutated_status_df = get_mutated_status(heatmap_data, individuals_mutated_target_gene)\n"
   ]
  },
  {
   "cell_type": "code",
   "execution_count": 22,
   "id": "bc027ecf-6e1e-4586-88e4-f1ecba33b8c0",
   "metadata": {},
   "outputs": [
    {
     "data": {
      "text/html": [
       "<div>\n",
       "<style scoped>\n",
       "    .dataframe tbody tr th:only-of-type {\n",
       "        vertical-align: middle;\n",
       "    }\n",
       "\n",
       "    .dataframe tbody tr th {\n",
       "        vertical-align: top;\n",
       "    }\n",
       "\n",
       "    .dataframe thead th {\n",
       "        text-align: right;\n",
       "    }\n",
       "</style>\n",
       "<table border=\"1\" class=\"dataframe\">\n",
       "  <thead>\n",
       "    <tr style=\"text-align: right;\">\n",
       "      <th></th>\n",
       "      <th>Sample</th>\n",
       "      <th>Mutation Status</th>\n",
       "    </tr>\n",
       "  </thead>\n",
       "  <tbody>\n",
       "    <tr>\n",
       "      <th>0</th>\n",
       "      <td>RESPOND_10100218</td>\n",
       "      <td>0</td>\n",
       "    </tr>\n",
       "    <tr>\n",
       "      <th>1</th>\n",
       "      <td>RESPOND_10100291</td>\n",
       "      <td>0</td>\n",
       "    </tr>\n",
       "    <tr>\n",
       "      <th>2</th>\n",
       "      <td>RESPOND_10100412</td>\n",
       "      <td>0</td>\n",
       "    </tr>\n",
       "    <tr>\n",
       "      <th>3</th>\n",
       "      <td>RESPOND_10100478</td>\n",
       "      <td>0</td>\n",
       "    </tr>\n",
       "    <tr>\n",
       "      <th>4</th>\n",
       "      <td>RESPOND_10100596</td>\n",
       "      <td>0</td>\n",
       "    </tr>\n",
       "    <tr>\n",
       "      <th>...</th>\n",
       "      <td>...</td>\n",
       "      <td>...</td>\n",
       "    </tr>\n",
       "    <tr>\n",
       "      <th>159</th>\n",
       "      <td>RESPOND_80100556</td>\n",
       "      <td>0</td>\n",
       "    </tr>\n",
       "    <tr>\n",
       "      <th>160</th>\n",
       "      <td>RESPOND_80100590</td>\n",
       "      <td>0</td>\n",
       "    </tr>\n",
       "    <tr>\n",
       "      <th>161</th>\n",
       "      <td>RESPOND_81100031</td>\n",
       "      <td>0</td>\n",
       "    </tr>\n",
       "    <tr>\n",
       "      <th>162</th>\n",
       "      <td>RESPOND_40100842</td>\n",
       "      <td>0</td>\n",
       "    </tr>\n",
       "    <tr>\n",
       "      <th>163</th>\n",
       "      <td>RESPOND_80100259</td>\n",
       "      <td>0</td>\n",
       "    </tr>\n",
       "  </tbody>\n",
       "</table>\n",
       "<p>164 rows × 2 columns</p>\n",
       "</div>"
      ],
      "text/plain": [
       "               Sample  Mutation Status\n",
       "0    RESPOND_10100218                0\n",
       "1    RESPOND_10100291                0\n",
       "2    RESPOND_10100412                0\n",
       "3    RESPOND_10100478                0\n",
       "4    RESPOND_10100596                0\n",
       "..                ...              ...\n",
       "159  RESPOND_80100556                0\n",
       "160  RESPOND_80100590                0\n",
       "161  RESPOND_81100031                0\n",
       "162  RESPOND_40100842                0\n",
       "163  RESPOND_80100259                0\n",
       "\n",
       "[164 rows x 2 columns]"
      ]
     },
     "execution_count": 22,
     "metadata": {},
     "output_type": "execute_result"
    }
   ],
   "source": [
    "mutated_status_df"
   ]
  },
  {
   "cell_type": "code",
   "execution_count": null,
   "id": "6bd1dac8-a698-4728-aee7-5b5f78eedbb3",
   "metadata": {},
   "outputs": [],
   "source": [
    "##to do: filter expression data for those included in the analysis (we have mutation data for)?"
   ]
  },
  {
   "cell_type": "code",
   "execution_count": 20,
   "id": "74d85b53-9bb0-478f-a08d-d7d0f8186c41",
   "metadata": {},
   "outputs": [],
   "source": [
    "import seaborn as sns\n",
    "import matplotlib.pyplot as plt\n",
    "import pandas as pd\n",
    "import numpy as np\n",
    "from scipy.cluster.hierarchy import fcluster, linkage\n",
    "\n",
    "def hierarchical_clustering(expression_df_heatmap, row_threshold=7, col_threshold=7):\n",
    "    # Cluster the rows and columns using hierarchical clustering\n",
    "    row_linkage = linkage(expression_df_heatmap, method='ward')\n",
    "    col_linkage = linkage(expression_df_heatmap.T, method='ward')\n",
    "\n",
    "    # Assign cluster labels using cluster\n",
    "    row_clusters = fcluster(row_linkage, t=row_threshold, criterion='maxclust')\n",
    "    col_clusters = fcluster(col_linkage, t=col_threshold, criterion='maxclust')\n",
    "\n",
    "    # Create dictionaries to store cluster information\n",
    "    row_cluster_info = {f\"Cluster {cluster}\": expression_df_heatmap.index[row_clusters == cluster] for cluster in np.unique(row_clusters)}\n",
    "    col_cluster_info = {f\"Cluster {cluster}\": expression_df_heatmap.columns[col_clusters == cluster] for cluster in np.unique(col_clusters)}\n",
    "\n",
    "    return row_linkage, col_linkage, row_cluster_info, col_cluster_info\n",
    "\n",
    "# Example usage:\n",
    "row_linkage, col_linkage, row_clusters, col_clusters = hierarchical_clustering(heatmap_data)\n"
   ]
  },
  {
   "cell_type": "code",
   "execution_count": 25,
   "id": "59d7b1f7-1930-45d1-bab9-b2cab98971fe",
   "metadata": {},
   "outputs": [],
   "source": [
    "import seaborn as sns\n",
    "import matplotlib.pyplot as plt\n",
    "\n",
    "def create_clustered_heatmap_and_save(expression_df_heatmap, \n",
    "                                      row_linkage, \n",
    "                                      col_linkage, \n",
    "                                      sample_mutation_df, \n",
    "                                      output_filename):\n",
    "    # Group labels and colors for color bar\n",
    "    type_map = {1: 'red', 0: 'yellow'}\n",
    "\n",
    "    # Create a clustered heatmap\n",
    "    clustered_df = sns.clustermap(\n",
    "        expression_df_heatmap,\n",
    "        row_linkage=row_linkage,\n",
    "        col_linkage=col_linkage,\n",
    "        cmap='viridis',\n",
    "        annot=True,\n",
    "        fmt=\".1f\",\n",
    "        linewidths=.5,\n",
    "        col_colors=sample_mutation_df.set_index('Sample')['Mutation Status'].map(type_map),\n",
    "        standard_scale=0  # standardize by the rows\n",
    "    )\n",
    "\n",
    "    # Save the plot to a file\n",
    "    clustered_df.savefig(output_filename)\n",
    "\n",
    "    # Close the plot to prevent displaying it in the notebook (optional)\n",
    "    plt.close()\n",
    "\n",
    "    return clustered_df\n",
    "\n",
    "output_file_path_name = f'{target_gene}_heatmap'\n",
    "clustered_heatmap = create_clustered_heatmap_and_save(heatmap_data, \n",
    "                                                      row_linkage, \n",
    "                                                      col_linkage,\n",
    "                                                      mutated_status_df, \n",
    "                                                      output_file_path_name)\n"
   ]
  },
  {
   "cell_type": "code",
   "execution_count": 29,
   "id": "56c644ef-b34e-4343-b27e-e281a2be9aec",
   "metadata": {},
   "outputs": [],
   "source": [
    "import matplotlib.pyplot as plt\n",
    "from scipy.cluster.hierarchy import dendrogram\n",
    "\n",
    "## add more args to the function \n",
    "\n",
    "def plot_and_save_dendrograms(row_linkage, col_linkage, expression_df_heatmap, output_folder='.'):\n",
    "    # Plot the row dendrogram\n",
    "    plt.figure(figsize=(12, 6))\n",
    "    gene_plot = dendrogram(row_linkage, \n",
    "                           labels=expression_df_heatmap.index, \n",
    "                           truncate_mode='lastp', \n",
    "                           p=int(0.75 * len(row_linkage)), show_leaf_counts=True)\n",
    "    plt.title('Row Dendrogram')\n",
    "    \n",
    "    # Save the row dendrogram plot to a file\n",
    "    row_dendrogram_filename = f'{output_folder}/row_dendrogram_{target_gene}.png'\n",
    "    plt.savefig(row_dendrogram_filename)\n",
    "    plt.close()\n",
    "\n",
    "    # Plot the column dendrogram\n",
    "    plt.figure(figsize=(12, 6))\n",
    "    sample_plot = dendrogram(col_linkage, labels=expression_df_heatmap.columns, orientation='top', \n",
    "                             truncate_mode='lastp', p=int(0.75 * len(row_linkage)), show_leaf_counts=True)\n",
    "    plt.title('Column Dendrogram')\n",
    "    \n",
    "    # Save the column dendrogram plot to a file\n",
    "    col_dendrogram_filename = f'{output_folder}/col_dendrogram_{target_gene}.png'\n",
    "    plt.savefig(col_dendrogram_filename)\n",
    "    plt.close()\n",
    "\n",
    "    return gene_plot, sample_plot\n",
    "\n",
    "row_dendrogram, col_dendrogram = plot_and_save_dendrograms(row_linkage, \n",
    "                                                           col_linkage, \n",
    "                                                           heatmap_data, \n",
    "                                                           '.')\n"
   ]
  },
  {
   "cell_type": "code",
   "execution_count": 147,
   "id": "98f33391-b696-4ebe-96ab-d378ae648582",
   "metadata": {},
   "outputs": [
    {
     "data": {
      "image/png": "[encoded data removed]",
      "text/plain": [
       "<Figure size 1200x600 with 1 Axes>"
      ]
     },
     "metadata": {},
     "output_type": "display_data"
    }
   ],
   "source": [
    "from scipy.cluster.hierarchy import dendrogram\n",
    "\n",
    "# Plot the row dendrogram\n",
    "plt.figure(figsize=(12, 6))\n",
    "gene_plot = dendrogram(row_linkage, \n",
    "                       labels=expression_df_heatmap.index, \n",
    "                       truncate_mode='lastp', \n",
    "                       p=int(0.75 * len(row_linkage)), show_leaf_counts=True)\n",
    "plt.title('Row Dendrogram')\n",
    "plt.show()\n",
    "\n",
    "# Plot the column dendrogram\n",
    "plt.figure(figsize=(12, 6))\n",
    "sample_plot = dendrogram(col_linkage, labels=expression_df_heatmap.columns, orientation='top', truncate_mode='lastp', \n",
    "                       p=int(0.75 * len(row_linkage)), \n",
    "                       show_leaf_counts=True)\n",
    "plt.title('Column Dendrogram')\n",
    "plt.show()\n"
   ]
  },
  {
   "cell_type": "code",
   "execution_count": 148,
   "id": "4ccf3119-f158-4119-92c1-a8eb26f58bf1",
   "metadata": {},
   "outputs": [
    {
     "data": {
      "image/png": "[encoded data removed]",
      "text/plain": [
       "<Figure size 1200x600 with 1 Axes>"
      ]
     },
     "metadata": {},
     "output_type": "display_data"
    }
   ],
   "source": [
    "# Plot the column dendrogram\n",
    "plt.figure(figsize=(12, 6))\n",
    "sample_plot = dendrogram(col_linkage, labels=expression_df_heatmap.columns, orientation='top', truncate_mode='lastp', \n",
    "                       p=int(0.75 * len(row_linkage)), \n",
    "                       show_leaf_counts=True)\n",
    "plt.title('Column Dendrogram')\n",
    "plt.show()"
   ]
  },
  {
   "cell_type": "markdown",
   "id": "85761050-5a60-4713-8b2c-661c0a1a5f77",
   "metadata": {},
   "source": [
    "## questions\n",
    "### How do we prep data for heat map? In other tutorials, I see negative values. Like -1 to 2. I'm guessing some might be plotting the fold change calculation with baseline as healthy samples. "
   ]
  },
  {
   "cell_type": "code",
   "execution_count": 239,
   "id": "0e7b9c4a-c204-40a4-af6f-a80cbb4a0594",
   "metadata": {},
   "outputs": [],
   "source": [
    "def histogram_of_column(df, column):\n",
    "    # Plot the distribution of p-values\n",
    "    plt.figure(figsize=(10, 6))\n",
    "    plt.hist(df[column], bins=30, color='blue', edgecolor='black')\n",
    "    plt.title(f'Distribution of {column}')\n",
    "    plt.xlabel('P-values')\n",
    "    plt.ylabel('Frequency')\n",
    "    plt.show()"
   ]
  },
  {
   "cell_type": "code",
   "execution_count": 240,
   "id": "2a44c0cc-696b-4443-a12f-893a4de2290b",
   "metadata": {},
   "outputs": [
    {
     "data": {
      "image/png": "[encoded data removed]",
      "text/plain": [
       "<Figure size 1000x600 with 1 Axes>"
      ]
     },
     "metadata": {},
     "output_type": "display_data"
    }
   ],
   "source": [
    "histogram_of_column(volcano_plot_df, column='adjusted_pvalue')"
   ]
  },
  {
   "cell_type": "code",
   "execution_count": 118,
   "id": "0d760684-969d-4d52-953b-592e349083d7",
   "metadata": {},
   "outputs": [],
   "source": [
    "def volcano_plot(file_path, yaxis, xaxis):\n",
    "    df = pd.read_csv(file_path)\n",
    "    plt.scatter(x=df[xaxis],y=df[yaxis].apply(lambda x:-np.log10(x)),s=1)"
   ]
  },
  {
   "cell_type": "code",
   "execution_count": 126,
   "id": "f006b5df-5b17-47a0-8f43-03a9b9e52cc7",
   "metadata": {},
   "outputs": [
    {
     "data": {
      "image/png": "[encoded data removed]",
      "text/plain": [
       "<matplotlib.figure.Figure at 0x11bfd2e10>"
      ]
     },
     "metadata": {
      "needs_background": "light"
     },
     "output_type": "display_data"
    }
   ],
   "source": [
    "volcano_plot('5_112_RPL10', yaxis='pvalue', xaxis='logFC')"
   ]
  },
  {
   "cell_type": "code",
   "execution_count": null,
   "id": "fb82f15e-2d3f-4c9d-b292-99ccadc4b8ee",
   "metadata": {},
   "outputs": [],
   "source": []
  }
 ],
 "metadata": {
  "kernelspec": {
   "display_name": "Python 3 (ipykernel)",
   "language": "python",
   "name": "python3"
  },
  "language_info": {
   "codemirror_mode": {
    "name": "ipython",
    "version": 3
   },
   "file_extension": ".py",
   "mimetype": "text/x-python",
   "name": "python",
   "nbconvert_exporter": "python",
   "pygments_lexer": "ipython3",
   "version": "3.9.18"
  }
 },
 "nbformat": 4,
 "nbformat_minor": 5
}
